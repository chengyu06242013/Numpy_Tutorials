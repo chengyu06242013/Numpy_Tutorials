{
 "cells": [
  {
   "cell_type": "markdown",
   "metadata": {},
   "source": [
    "# Numpy practice\n",
    "\n",
    "finished by crD\n",
    "\n",
    "Get familiar with Numpy. A relatively systematic way to practice Numpy\n",
    "\n",
    "Study guide link:\n",
    "\n",
    "[Numpy Tutorial Part 1 – Introduction to Arrays](https://www.machinelearningplus.com/python/numpy-tutorial-part1-array-python-examples/)\n",
    "\n",
    "[Numpy Tutorial Part 2 – Vital Functions for Data Analysis](https://www.machinelearningplus.com/python/numpy-tutorial-python-part2/)\n",
    "\n",
    "[101 NumPy Exercises for Data Analysis (Python)](https://www.machinelearningplus.com/python/101-numpy-exercises-python/)\n",
    "\n",
    "So let's begin!"
   ]
  },
  {
   "cell_type": "code",
   "execution_count": 1,
   "metadata": {
    "collapsed": true
   },
   "outputs": [],
   "source": [
    "import numpy as np"
   ]
  },
  {
   "cell_type": "markdown",
   "metadata": {},
   "source": [
    "## Numpy Turorial Part 1"
   ]
  },
  {
   "cell_type": "code",
   "execution_count": 6,
   "metadata": {},
   "outputs": [
    {
     "name": "stdout",
     "output_type": "stream",
     "text": [
      "<class 'numpy.ndarray'>\n",
      "[1 2 3 4]\n",
      "(4,)\n"
     ]
    }
   ],
   "source": [
    "# Create a list (1-d array)\n",
    "list1 = [1, 2, 3, 4]\n",
    "np_list1 = np.array(list1)\n",
    "\n",
    "print(type(np_list1))\n",
    "print(np_list1)\n",
    "print(np_list1.shape)"
   ]
  },
  {
   "cell_type": "code",
   "execution_count": 3,
   "metadata": {},
   "outputs": [
    {
     "name": "stdout",
     "output_type": "stream",
     "text": [
      "[1 2 3 4]\n",
      "[3 4 5 6]\n"
     ]
    }
   ],
   "source": [
    "# NP array broadcasting\n",
    "# list1_ADD2 = list1 + 2  # This causes an error\n",
    "\n",
    "np_list1_ADD2 = np_list1 + 2\n",
    "print(np_list1)\n",
    "print(np_list1_ADD2)\n"
   ]
  },
  {
   "cell_type": "code",
   "execution_count": 12,
   "metadata": {},
   "outputs": [
    {
     "name": "stdout",
     "output_type": "stream",
     "text": [
      "<class 'numpy.ndarray'>\n",
      "[[0 2 3]\n",
      " [4 5 6]\n",
      " [7 8 9]]\n",
      "(3, 3)\n"
     ]
    }
   ],
   "source": [
    "# Create a matrix (2-d array)\n",
    "\n",
    "list2 = [[0, 2, 3], [4, 5, 6], [7, 8, 9]]\n",
    "np_list2 = np.array(list2)\n",
    "\n",
    "print(type(np_list2))\n",
    "print(np_list2)\n",
    "print(np_list2.shape)\n"
   ]
  },
  {
   "cell_type": "code",
   "execution_count": 18,
   "metadata": {},
   "outputs": [
    {
     "name": "stdout",
     "output_type": "stream",
     "text": [
      "<class 'numpy.ndarray'>\n",
      "[[ 0.  2.  3.]\n",
      " [ 4.  5.  6.]\n",
      " [ 7.  8.  9.]]\n",
      "(3, 3)\n",
      "\n",
      "[[False  True  True]\n",
      " [ True  True  True]\n",
      " [ True  True  True]]\n"
     ]
    }
   ],
   "source": [
    "# Change the data type\n",
    "np_list2_float = np.array(list2, dtype = 'float')\n",
    "\n",
    "print(type(np_list2_float))\n",
    "print(np_list2_float)\n",
    "print(np_list2_float.shape)\n",
    "\n",
    "print()\n",
    "\n",
    "# Boolean conversion (0 -> False, else -> 1)\n",
    "np_list2_bool = np.array(list2, dtype = 'bool')\n",
    "print(np_list2_bool)"
   ]
  },
  {
   "cell_type": "code",
   "execution_count": 19,
   "metadata": {},
   "outputs": [
    {
     "name": "stdout",
     "output_type": "stream",
     "text": [
      "[[0 2 3]\n",
      " [4 5 6]\n",
      " [7 8 9]]\n",
      "[['0.0' '2.0' '3.0']\n",
      " ['4.0' '5.0' '6.0']\n",
      " ['7.0' '8.0' '9.0']]\n"
     ]
    }
   ],
   "source": [
    "# convert type \n",
    "np_list2_int = np_list2_float.astype('int')\n",
    "np_list2_str = np_list2_float.astype('str')\n",
    "\n",
    "print(np_list2_int)\n",
    "print(np_list2_str)"
   ]
  },
  {
   "cell_type": "code",
   "execution_count": 21,
   "metadata": {},
   "outputs": [
    {
     "name": "stdout",
     "output_type": "stream",
     "text": [
      "Shape:  (3, 3)\n",
      "Data type:  int64\n",
      "Size:  9\n",
      "Number of dimensions:  2\n"
     ]
    }
   ],
   "source": [
    "# Some information access: shape, dtype， size and ndim\n",
    "\n",
    "print('Shape: ', np_list2.shape)\n",
    "print('Data type: ', np_list2.dtype)\n",
    "print('Size: ', np_list2.size)\n",
    "print('Number of dimensions: ', np_list2.ndim)"
   ]
  },
  {
   "cell_type": "code",
   "execution_count": 25,
   "metadata": {},
   "outputs": [
    {
     "name": "stdout",
     "output_type": "stream",
     "text": [
      "[[0 2 3]\n",
      " [4 5 6]\n",
      " [7 8 9]]\n",
      "\n",
      "[[0 2]\n",
      " [4 5]]\n",
      "[[5 6]\n",
      " [8 9]]\n"
     ]
    }
   ],
   "source": [
    "# Extract items from nd-array\n",
    "print(np_list2)\n",
    "print()\n",
    "print(np_list2[:2, :2]) # Not include 2\n",
    "print(np_list2[1:, 1:]) # include 1"
   ]
  },
  {
   "cell_type": "code",
   "execution_count": 40,
   "metadata": {},
   "outputs": [
    {
     "name": "stdout",
     "output_type": "stream",
     "text": [
      "[[0 2 3]\n",
      " [4 5 6]\n",
      " [7 8 9]]\n",
      "\n",
      "[[False False False]\n",
      " [False  True  True]\n",
      " [ True  True  True]]\n",
      "\n",
      "[5 6 7 8 9]\n"
     ]
    }
   ],
   "source": [
    "# Boolean output\n",
    "print(np_list2)\n",
    "print()\n",
    "\n",
    "b = np_list2 >= 5\n",
    "print(b)\n",
    "\n",
    "print()\n",
    "print(np_list2[b])"
   ]
  },
  {
   "cell_type": "code",
   "execution_count": 31,
   "metadata": {},
   "outputs": [
    {
     "name": "stdout",
     "output_type": "stream",
     "text": [
      "[[2 2 6 7]\n",
      " [2 3 1 2]\n",
      " [8 6 8 1]\n",
      " [6 6 3 9]]\n",
      "\n",
      "[[6 6 3 9]\n",
      " [8 6 8 1]\n",
      " [2 3 1 2]\n",
      " [2 2 6 7]]\n"
     ]
    }
   ],
   "source": [
    "# Reverse elements\n",
    "\n",
    "# randomly generate integers given upper bound and size\n",
    "np_list3 = np.random.randint(10, size = (4, 4))\n",
    "print(np_list3)\n",
    "\n",
    "np_list3_r = np_list3[::-1, :]\n",
    "print()\n",
    "print(np_list3_r)"
   ]
  },
  {
   "cell_type": "code",
   "execution_count": 38,
   "metadata": {},
   "outputs": [
    {
     "name": "stdout",
     "output_type": "stream",
     "text": [
      "[[ inf   2.   6.   7.]\n",
      " [  2.  nan   1.   2.]\n",
      " [  8.   6.   8.   1.]\n",
      " [  6.   6.   3.   9.]]\n"
     ]
    }
   ],
   "source": [
    "# inf and nan\n",
    "\n",
    "np_list3_float = np_list3.astype('float')\n",
    "np_list3_float[0, 0] = np.inf\n",
    "np_list3_float[1, 1] = np.nan\n",
    "print(np_list3_float)"
   ]
  },
  {
   "cell_type": "code",
   "execution_count": null,
   "metadata": {
    "collapsed": true
   },
   "outputs": [],
   "source": []
  }
 ],
 "metadata": {
  "kernelspec": {
   "display_name": "Python 3",
   "language": "python",
   "name": "python3"
  },
  "language_info": {
   "codemirror_mode": {
    "name": "ipython",
    "version": 3
   },
   "file_extension": ".py",
   "mimetype": "text/x-python",
   "name": "python",
   "nbconvert_exporter": "python",
   "pygments_lexer": "ipython3",
   "version": "3.6.3"
  }
 },
 "nbformat": 4,
 "nbformat_minor": 2
}
